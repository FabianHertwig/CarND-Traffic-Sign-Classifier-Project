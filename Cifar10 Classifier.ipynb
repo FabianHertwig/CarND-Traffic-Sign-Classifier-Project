{
 "cells": [
  {
   "cell_type": "markdown",
   "metadata": {},
   "source": [
    "# Self-Driving Car Engineer Nanodegree\n",
    "\n",
    "## Deep Learning\n",
    "\n",
    "\n",
    "This is an adaptation to the traffic sign classifier network the train on the cifar10 dataset."
   ]
  },
  {
   "cell_type": "markdown",
   "metadata": {},
   "source": [
    "---\n",
    "## Step 0: Load The Data"
   ]
  },
  {
   "cell_type": "markdown",
   "metadata": {},
   "source": [
    "Download and extract the file:"
   ]
  },
  {
   "cell_type": "code",
   "execution_count": 1,
   "metadata": {
    "collapsed": true
   },
   "outputs": [],
   "source": [
    "import tensorflow as tf\n",
    "import pandas as pd"
   ]
  },
  {
   "cell_type": "code",
   "execution_count": 4,
   "metadata": {},
   "outputs": [
    {
     "name": "stdout",
     "output_type": "stream",
     "text": [
      "Downloading data from http://www.cs.toronto.edu/~kriz/cifar-10-python.tar.gz\n",
      "Untaring file...\n"
     ]
    }
   ],
   "source": [
    "from keras.datasets import cifar10\n",
    "(X_train, y_train), (X_test, y_test) = cifar10.load_data()\n",
    "# y_train.shape is 2d, (50000, 1). While Keras is smart enough to handle this\n",
    "# it's a good idea to flatten the array.\n",
    "y_train = y_train.reshape(-1)\n",
    "y_test = y_test.reshape(-1)\n",
    "\n"
   ]
  },
  {
   "cell_type": "code",
   "execution_count": 5,
   "metadata": {
    "collapsed": true
   },
   "outputs": [],
   "source": [
    "from sklearn.model_selection import train_test_split\n",
    "X_train, X_valid, y_train, y_valid = train_test_split(X_train, y_train, test_size=0.3, random_state=42, stratify = y_train)"
   ]
  },
  {
   "cell_type": "markdown",
   "metadata": {},
   "source": [
    "### Basic Summary of the Data Set "
   ]
  },
  {
   "cell_type": "code",
   "execution_count": 6,
   "metadata": {
    "collapsed": true
   },
   "outputs": [],
   "source": [
    "import numpy as np"
   ]
  },
  {
   "cell_type": "code",
   "execution_count": 7,
   "metadata": {},
   "outputs": [
    {
     "name": "stdout",
     "output_type": "stream",
     "text": [
      "Number of training examples = 35000\n",
      "Number of validation examples = 15000\n",
      "Number of testing examples = 10000\n",
      "Image data shape = (32, 32, 3)\n",
      "Number of classes = 10\n"
     ]
    }
   ],
   "source": [
    "### Replace each question mark with the appropriate value. \n",
    "### Use python, pandas or numpy methods rather than hard coding the results\n",
    "\n",
    "# SOLUTION: Number of training examples\n",
    "n_train = y_train.shape[0]\n",
    "\n",
    "# SOLUTION: Number of validation examples\n",
    "n_validation = y_valid.shape[0]\n",
    "\n",
    "# SOLUTION: Number of testing examples.\n",
    "n_test = y_test.shape[0]\n",
    "\n",
    "# SOLUTION: What's the shape of an traffic sign image?\n",
    "image_shape = X_train[0].shape\n",
    "\n",
    "# SOLUTION: How many unique classes/labels there are in the dataset.\n",
    "n_classes = len(np.unique(y_train))\n",
    "\n",
    "print(\"Number of training examples =\", n_train)\n",
    "print(\"Number of validation examples =\", n_validation)\n",
    "print(\"Number of testing examples =\", n_test)\n",
    "print(\"Image data shape =\", image_shape)\n",
    "print(\"Number of classes =\", n_classes)"
   ]
  },
  {
   "cell_type": "markdown",
   "metadata": {},
   "source": [
    "### Exploratory visualization of the dataset"
   ]
  },
  {
   "cell_type": "code",
   "execution_count": 8,
   "metadata": {
    "collapsed": true
   },
   "outputs": [],
   "source": [
    "import matplotlib.pyplot as plt\n",
    "%matplotlib inline"
   ]
  },
  {
   "cell_type": "markdown",
   "metadata": {},
   "source": [
    "Lets take a look at the class distributions per set."
   ]
  },
  {
   "cell_type": "code",
   "execution_count": 9,
   "metadata": {
    "collapsed": true
   },
   "outputs": [],
   "source": [
    "import pandas as pd\n",
    "def class_histogram(labels, title_postfix = \"\"):\n",
    "    pd.DataFrame(labels).hist(bins = n_classes, grid = False)\n",
    "    plt.title(\"Distribution of Labels\" + title_postfix)\n",
    "    plt.xlabel(\"Class Number\")"
   ]
  },
  {
   "cell_type": "code",
   "execution_count": 10,
   "metadata": {},
   "outputs": [
    {
     "data": {
      "image/png": "[encoded data removed]",
      "text/plain": [
       "<matplotlib.figure.Figure at 0x7f62f7f367f0>"
      ]
     },
     "metadata": {},
     "output_type": "display_data"
    },
    {
     "data": {
      "image/png": "[encoded data removed]",
      "text/plain": [
       "<matplotlib.figure.Figure at 0x7f62f7c64dd8>"
      ]
     },
     "metadata": {},
     "output_type": "display_data"
    },
    {
     "data": {
      "image/png": "[encoded data removed]",
      "text/plain": [
       "<matplotlib.figure.Figure at 0x7f62ad117a90>"
      ]
     },
     "metadata": {},
     "output_type": "display_data"
    }
   ],
   "source": [
    "class_histogram(y_train, \" in Train Data\")\n",
    "class_histogram(y_valid, \" in Validation Data\")\n",
    "class_histogram(y_test, \" in Test Data\")"
   ]
  },
  {
   "cell_type": "markdown",
   "metadata": {},
   "source": [
    "Class distribution is pretty much the same on each set, though there are more prominent classes than others. To improve results further, one could rebalance the class distribution with augmented images."
   ]
  },
  {
   "cell_type": "markdown",
   "metadata": {},
   "source": [
    "----\n",
    "\n",
    "## Step 2: Model Architecture\n",
    "\n"
   ]
  },
  {
   "cell_type": "markdown",
   "metadata": {},
   "source": [
    "### Pre-processing\n",
    "\n",
    "For preprocessing the images are normalized, so every image uses the full brightness spectrum from value 0 to value 255. This improves images that are very dark, but also adds shifts in colour. One could use better techniques to normalize the brightness, as converting in the HSL colorspace and normalize brighntess there. \n",
    "\n",
    "Normalizing the images improved the accuracy of the net.\n",
    "\n",
    "For augmentation a random brightness is added and then the images get normalized. Brightness is added before normalizing, to emulate different conditions when the picture was taken. Also random translations, rotations, sheering and scaling was added. These augmentation techniques are used quite often with image recognition tasks and should improve overfitting. \n",
    "\n",
    "At last the image values where converted to a -1.0 to 1.0 range for deep learning."
   ]
  },
  {
   "cell_type": "code",
   "execution_count": 11,
   "metadata": {
    "collapsed": true
   },
   "outputs": [],
   "source": [
    "def to_float_image(images):\n",
    "    \"\"\"\n",
    "    Converts images in the range 0 - 255 to the range 0.0 - 1.0.\n",
    "    This can still be plotted with matplotlib.\n",
    "    \"\"\"\n",
    "    return images.astype(np.float32) / 255.0"
   ]
  },
  {
   "cell_type": "markdown",
   "metadata": {},
   "source": [
    "This type of normalization changes the colors of the images a lot when the images are dark, as every colorchannel gets multiplied by a constant factor. To improve on this, one could convert the image to the HSL colorspace, adjust the lightnes and convert back to rgb."
   ]
  },
  {
   "cell_type": "code",
   "execution_count": 12,
   "metadata": {
    "collapsed": true
   },
   "outputs": [],
   "source": [
    "def normalize(images):\n",
    "    \"\"\"\n",
    "    The pixel values of a normalized image range from 0 to 255. \n",
    "    So if an images darkest pixel is 10 and brightest pixel is 200,\n",
    "    after normalzing they are 0 and 255. All other pixel values are \n",
    "    scaled accordingly.\n",
    "    \"\"\"\n",
    "    result = np.empty(images.shape)\n",
    "    for i in range(len(images)):\n",
    "        image = images[i].astype(np.float32)\n",
    "        image -= image.min()\n",
    "        image *= (255.0/image.max())\n",
    "        result[i] = image\n",
    "    return result.astype(np.ubyte)"
   ]
  },
  {
   "cell_type": "code",
   "execution_count": 13,
   "metadata": {
    "collapsed": true
   },
   "outputs": [],
   "source": [
    "def float_image_to_deep_learning_input(images):\n",
    "    \"\"\"\n",
    "    Input should have values in the range 0.0 - 1.0.\n",
    "    Returns images in the range -1.0 - 1.0.\n",
    "    This can not be plotted with matplotlib.\n",
    "    \"\"\"\n",
    "    return (images - 0.5) * 2"
   ]
  },
  {
   "cell_type": "code",
   "execution_count": 14,
   "metadata": {
    "collapsed": true
   },
   "outputs": [],
   "source": [
    "from skimage import transform as itrf\n",
    "def augment_image(image):\n",
    "    \"\"\"\n",
    "    Adds random brightnes, shearing, rotation, translation and scaling to the image.\n",
    "    \"\"\"\n",
    "    random_brightnes = np.clip(np.random.normal(loc = 1.0, scale = 0.5), 0.1, 3.0)\n",
    "    image = np.clip((image * random_brightnes),0, 255).astype(np.ubyte)\n",
    "    image = normalize(image)\n",
    "    \n",
    "    random_shear = np.random.normal(loc = 0.0, scale = 0.1)\n",
    "    random_scale = (np.random.normal(loc = 1.0, scale = 0.1), np.random.normal(loc = 1.0, scale = 0.1))\n",
    "    random_rotation = np.random.normal(loc = 0.0, scale = 0.1)\n",
    "    random_translation = (np.random.normal(loc = 0.0, scale = 0.1), np.random.normal(loc = 0.0, scale = 0.1))\n",
    "    afine_tf = itrf.AffineTransform(shear = random_shear, scale = random_scale, rotation = random_rotation)\n",
    "    # print(\"Shear: \" +  str(random_shear) + \" Scale: \" +  str(random_scale) + \" Rot: \" + str(random_rotation) + \" Bright: \" + str(random_brightnes))\n",
    "    return itrf.warp(image, inverse_map=afine_tf)"
   ]
  },
  {
   "cell_type": "markdown",
   "metadata": {},
   "source": [
    "Example of one image augmentation. (Execute multiple times to see the randomness)"
   ]
  },
  {
   "cell_type": "markdown",
   "metadata": {},
   "source": [
    "Here I will show the results of different augmentation steps:"
   ]
  },
  {
   "cell_type": "markdown",
   "metadata": {},
   "source": [
    "Original Image:"
   ]
  },
  {
   "cell_type": "code",
   "execution_count": 15,
   "metadata": {},
   "outputs": [
    {
     "data": {
      "text/plain": [
       "<matplotlib.image.AxesImage at 0x7f62f68976d8>"
      ]
     },
     "execution_count": 15,
     "metadata": {},
     "output_type": "execute_result"
    },
    {
     "data": {
      "image/png": "[encoded data removed]",
      "text/plain": [
       "<matplotlib.figure.Figure at 0x7f62f7dc13c8>"
      ]
     },
     "metadata": {},
     "output_type": "display_data"
    }
   ],
   "source": [
    "plt.imshow(X_train[100])"
   ]
  },
  {
   "cell_type": "markdown",
   "metadata": {},
   "source": [
    "Adding random brightness:"
   ]
  },
  {
   "cell_type": "code",
   "execution_count": 16,
   "metadata": {},
   "outputs": [
    {
     "data": {
      "text/plain": [
       "<matplotlib.image.AxesImage at 0x7f62f6d52f98>"
      ]
     },
     "execution_count": 16,
     "metadata": {},
     "output_type": "execute_result"
    },
    {
     "data": {
      "image/png": "[encoded data removed]",
      "text/plain": [
       "<matplotlib.figure.Figure at 0x7f62f7e54c88>"
      ]
     },
     "metadata": {},
     "output_type": "display_data"
    }
   ],
   "source": [
    "random_brightnes = np.clip(np.random.normal(loc = 1.0, scale = 0.5), 0.1, 3.0)\n",
    "image = np.clip((X_train[100] * random_brightnes),0, 255).astype(np.ubyte)\n",
    "plt.imshow(image)"
   ]
  },
  {
   "cell_type": "markdown",
   "metadata": {},
   "source": [
    "Normalizing:"
   ]
  },
  {
   "cell_type": "code",
   "execution_count": 17,
   "metadata": {},
   "outputs": [
    {
     "data": {
      "text/plain": [
       "<matplotlib.image.AxesImage at 0x7f62f69ef208>"
      ]
     },
     "execution_count": 17,
     "metadata": {},
     "output_type": "execute_result"
    },
    {
     "data": {
      "image/png": "[encoded data removed]",
      "text/plain": [
       "<matplotlib.figure.Figure at 0x7f62f68a0240>"
      ]
     },
     "metadata": {},
     "output_type": "display_data"
    }
   ],
   "source": [
    "image = normalize(image)\n",
    "plt.imshow(image)"
   ]
  },
  {
   "cell_type": "markdown",
   "metadata": {},
   "source": [
    "Random rotation, scale, sheer and translation. This is done at once by multipling the image with a warp matrix."
   ]
  },
  {
   "cell_type": "code",
   "execution_count": 18,
   "metadata": {},
   "outputs": [
    {
     "data": {
      "text/plain": [
       "<matplotlib.image.AxesImage at 0x7f62f6a9c940>"
      ]
     },
     "execution_count": 18,
     "metadata": {},
     "output_type": "execute_result"
    },
    {
     "data": {
      "image/png": "[encoded data removed]",
      "text/plain": [
       "<matplotlib.figure.Figure at 0x7f62f6d18160>"
      ]
     },
     "metadata": {},
     "output_type": "display_data"
    }
   ],
   "source": [
    "random_shear = np.random.normal(loc = 0.0, scale = 0.1)\n",
    "random_scale = (np.random.normal(loc = 1.0, scale = 0.1), np.random.normal(loc = 1.0, scale = 0.1))\n",
    "random_rotation = np.random.normal(loc = 0.0, scale = 0.1)\n",
    "random_translation = (np.random.normal(loc = 0.0, scale = 0.1), np.random.normal(loc = 0.0, scale = 0.1))\n",
    "afine_tf = itrf.AffineTransform(shear = random_shear, scale = random_scale, rotation = random_rotation)\n",
    "image = itrf.warp(image, inverse_map=afine_tf)\n",
    "plt.imshow(image)"
   ]
  },
  {
   "cell_type": "code",
   "execution_count": 19,
   "metadata": {
    "collapsed": true
   },
   "outputs": [],
   "source": [
    "def image_augmentation_pipeline(images):\n",
    "    result = np.zeros(images.shape)\n",
    "    for i in range(len(images)):\n",
    "        result[i] = augment_image(images[i])\n",
    "    \n",
    "    return result"
   ]
  },
  {
   "cell_type": "code",
   "execution_count": 20,
   "metadata": {
    "collapsed": true
   },
   "outputs": [],
   "source": [
    "def prepare_images_for_deep_learning(images):\n",
    "    images = normalize(images)\n",
    "    images = to_float_image(images)\n",
    "    images = float_image_to_deep_learning_input(images)\n",
    "    return images"
   ]
  },
  {
   "cell_type": "markdown",
   "metadata": {},
   "source": [
    "### Augmentation "
   ]
  },
  {
   "cell_type": "markdown",
   "metadata": {},
   "source": [
    "Here the augmentation of images get calculated. I tried to generate the augmented images during the training loop to add randomness and save memory, but that increased the training time significantly, which i did not prefer. I wanted to observe the improvements of the net while training so I could stop training early on bad results. Therefore I needed a fast training pipeline. So the images are generated before training."
   ]
  },
  {
   "cell_type": "code",
   "execution_count": 21,
   "metadata": {},
   "outputs": [
    {
     "name": "stderr",
     "output_type": "stream",
     "text": [
      "/home/carnd/anaconda3/envs/carnd-term1/lib/python3.5/site-packages/ipykernel_launcher.py:12: RuntimeWarning: divide by zero encountered in true_divide\n",
      "  if sys.path[0] == '':\n",
      "/home/carnd/anaconda3/envs/carnd-term1/lib/python3.5/site-packages/ipykernel_launcher.py:12: RuntimeWarning: invalid value encountered in multiply\n",
      "  if sys.path[0] == '':\n"
     ]
    },
    {
     "name": "stdout",
     "output_type": "stream",
     "text": [
      "CPU times: user 3min 23s, sys: 1.17 s, total: 3min 24s\n",
      "Wall time: 3min 24s\n"
     ]
    }
   ],
   "source": [
    "%%time\n",
    "AUGMENTATION_RUNS = 5\n",
    "X_train_augmented =  np.zeros((AUGMENTATION_RUNS,) + X_train.shape)\n",
    "for i in range(AUGMENTATION_RUNS):\n",
    "    X_train_augmented[i] = image_augmentation_pipeline(X_train)\n",
    "    "
   ]
  },
  {
   "cell_type": "markdown",
   "metadata": {},
   "source": [
    "### Image Preparation for Deep Learning"
   ]
  },
  {
   "cell_type": "code",
   "execution_count": 22,
   "metadata": {
    "collapsed": true
   },
   "outputs": [],
   "source": [
    "X_train_prepared = prepare_images_for_deep_learning(X_train)\n",
    "X_train_augmented_prepared = prepare_images_for_deep_learning(X_train_augmented)\n",
    "X_test_prepared = prepare_images_for_deep_learning(X_test)\n",
    "X_valid_prepared = prepare_images_for_deep_learning(X_valid)"
   ]
  },
  {
   "cell_type": "markdown",
   "metadata": {},
   "source": [
    "### Model Architecture"
   ]
  },
  {
   "cell_type": "markdown",
   "metadata": {},
   "source": [
    "Below is a table of the architecture. It is the same as the LeNet-5 architecture with more depth in the filters and therefore more fully connected nodes."
   ]
  },
  {
   "cell_type": "markdown",
   "metadata": {},
   "source": [
    "| Layer           | Description                                 |\n",
    "|-----------------|---------------------------------------------|\n",
    "| Input           | 32x32x3 Image Data                          |\n",
    "| Convolution 5x5 | Valid Padding, 1x1 Strides, 28x28x16 Output |\n",
    "| Relu            |                                             |\n",
    "| Max Pool        | 2x2 Strides, 14x14x16 Output                |\n",
    "| Convolution 5x5 | Valid Padding, 1x1 Strides, 10x10x32 Output |\n",
    "| Relu            |                                             |\n",
    "| Max Pool        | 2x2 Strides, 5x5x32 Output                  |\n",
    "| Flatten         | 800 Output                                  |\n",
    "| Fully Connected | 200 Output                                  |\n",
    "| Relu            |                                             |\n",
    "| Fully Connected | 100 Output                                  |\n",
    "| Relu            |                                             |\n",
    "| Dropout         | 50% Keep Probability                        |\n",
    "| Fully Connected | Output 43                                   |"
   ]
  },
  {
   "cell_type": "markdown",
   "metadata": {},
   "source": [
    "### Architecture and training approach\n",
    "\n",
    "I used the same architecture as the LeNet-5 net, as it was build for image classification tasks. Also most of the code got implemented earlier in the nanodegree so it seemed obvious to reuse the code.\n",
    "\n",
    "To improve the accuracy of the net, I changed the depth of the filters and therefore I had to increase the number of fully connected neurons accordingly. At first I started with quite deep filters, and a lot of neurons. Then I decreased the filters step by step to prevent overfitting  until I got good results. \n",
    "\n",
    "I tried to create an overfitting model first, so I know that the model is able to learn the concepts. Then I tried to decrease overfitting by decreasing filter depths, adding a dropout layer with a 50% keep probability and image augmentation.\n",
    "\n",
    "I used the adam optimizer with its default learning rate of 0.001. I tried to lower the training rate, but that seemed to increase training time without accuracy improvements. The adam optimizer should addapt the training rate anyways.\n",
    "\n",
    "I also tried to increase the batch size until I run in memory issues, but that seemed to lower the accuracy somehow. So I kept the batch size at 512. The model ran for 30 Epochs, but it didn't improve after 20.\n",
    "\n",
    "As a final result I got a validation accuracy of 0.943 and test accuracy of 0.95. \n",
    "\n",
    "In the loss chart below the training segment you can see that validations loss starts to rise again after about 10 Epochs of training. That shows that the net is still overfitting, but I'm happy with the results it produces anyways."
   ]
  },
  {
   "cell_type": "code",
   "execution_count": 28,
   "metadata": {
    "collapsed": true
   },
   "outputs": [],
   "source": [
    "import tensorflow as tf\n",
    "from tensorflow.contrib.layers import flatten\n",
    "\n",
    "def LeNet(x):    \n",
    "    # Arguments used for tf.truncated_normal, randomly defines variables for the weights and biases for each layer\n",
    "    mu = 0\n",
    "    sigma = 0.1\n",
    "    \n",
    "    # SOLUTION: Layer 1: Convolutional. Input = 32x32x3. Output = 28x28x16.\n",
    "    conv1_W = tf.Variable(tf.truncated_normal(shape=(5, 5, 3, 16), mean = mu, stddev = sigma), name=\"conv1_W\")\n",
    "    conv1_b = tf.Variable(tf.zeros(16), name=\"conv1_b\")\n",
    "    conv1   = tf.nn.conv2d(x, conv1_W, strides=[1, 1, 1, 1], padding='VALID') + conv1_b\n",
    "\n",
    "    # SOLUTION: Activation.\n",
    "    conv1 = tf.nn.relu(conv1, name=\"conv1_relu\")\n",
    "\n",
    "    # SOLUTION: Pooling. Input = 28x28x16. Output = 14x14x16.\n",
    "    conv1 = tf.nn.max_pool(conv1, ksize=[1, 2, 2, 1], strides=[1, 2, 2, 1], padding='VALID', name=\"conv1_maxpool\")\n",
    "\n",
    "    # SOLUTION: Layer 2: Convolutional. Output = 10x10x32.\n",
    "    conv2_W = tf.Variable(tf.truncated_normal(shape=(5, 5, 16, 32), mean = mu, stddev = sigma), name=\"conv2_W\")\n",
    "    conv2_b = tf.Variable(tf.zeros(32), name=\"conv2_b\")\n",
    "    conv2   = tf.nn.conv2d(conv1, conv2_W, strides=[1, 1, 1, 1], padding='VALID') + conv2_b\n",
    "    \n",
    "    # SOLUTION: Activation.\n",
    "    conv2 = tf.nn.relu(conv2, name=\"conv2_relu\")\n",
    "\n",
    "    # SOLUTION: Pooling. Input = 10x10x32. Output = 5x5x32.\n",
    "    conv2 = tf.nn.max_pool(conv2, ksize=[1, 2, 2, 1], strides=[1, 2, 2, 1], padding='VALID', name=\"conv2_maxpool\")\n",
    "\n",
    "    # SOLUTION: Flatten. Input = 5x5x36. Output = 800.\n",
    "    fc0   = flatten(conv2)\n",
    "    \n",
    "    #Layer 3: Fully Connected. Input = 800. Output = 200.\n",
    "    fc1_W = tf.Variable(tf.truncated_normal(shape=(800, 200), mean = mu, stddev = sigma))\n",
    "    fc1_b = tf.Variable(tf.zeros(200))\n",
    "    fc1   = tf.matmul(fc0, fc1_W) + fc1_b\n",
    "    \n",
    "    # SOLUTION: Activation.\n",
    "    fc1    = tf.nn.relu(fc1)\n",
    "\n",
    "    # SOLUTION: Layer 4: Fully Connected. Input = 200. Output = 100.\n",
    "    fc2_W  = tf.Variable(tf.truncated_normal(shape=(200, 100), mean = mu, stddev = sigma))\n",
    "    fc2_b  = tf.Variable(tf.zeros(100))\n",
    "    fc2    = tf.matmul(fc1, fc2_W) + fc2_b\n",
    "    \n",
    "    # SOLUTION: Activation.\n",
    "    fc2    = tf.nn.relu(fc2)\n",
    "    \n",
    "    # Dropout\n",
    "    drop = tf.nn.dropout(fc2, keep_prob)\n",
    "\n",
    "    # SOLUTION: Layer 5: Fully Connected. Input = 100. Output = 10.\n",
    "    fc3_W  = tf.Variable(tf.truncated_normal(shape=(100, 10), mean = mu, stddev = sigma))\n",
    "    fc3_b  = tf.Variable(tf.zeros(10))\n",
    "    logits = tf.matmul(drop, fc3_W) + fc3_b\n",
    "    \n",
    "    return logits"
   ]
  },
  {
   "cell_type": "markdown",
   "metadata": {},
   "source": [
    "### Train, Validate and Test the Model"
   ]
  },
  {
   "cell_type": "markdown",
   "metadata": {},
   "source": [
    "A validation set can be used to assess how well the model is performing. A low accuracy on the training and validation\n",
    "sets imply underfitting. A high accuracy on the training set but low accuracy on the validation set implies overfitting."
   ]
  },
  {
   "cell_type": "markdown",
   "metadata": {},
   "source": [
    "Variables"
   ]
  },
  {
   "cell_type": "code",
   "execution_count": 29,
   "metadata": {
    "collapsed": true
   },
   "outputs": [],
   "source": [
    "x = tf.placeholder(tf.float32, (None, 32, 32, 3), name= \"x\")\n",
    "y = tf.placeholder(tf.int32, (None), name= \"y\")\n",
    "one_hot_y = tf.one_hot(y, 10, name= \"one_hot_encoder\")\n",
    "keep_prob = tf.placeholder(tf.float32)"
   ]
  },
  {
   "cell_type": "markdown",
   "metadata": {},
   "source": [
    "Training Pipeline"
   ]
  },
  {
   "cell_type": "code",
   "execution_count": 30,
   "metadata": {
    "scrolled": false
   },
   "outputs": [],
   "source": [
    "rate = 0.001\n",
    "\n",
    "logits = LeNet(x)\n",
    "cross_entropy = tf.nn.softmax_cross_entropy_with_logits(labels=one_hot_y, logits=logits)\n",
    "loss_operation = tf.reduce_mean(cross_entropy)\n",
    "optimizer = tf.train.AdamOptimizer(learning_rate=rate)\n",
    "training_operation = optimizer.minimize(loss_operation)"
   ]
  },
  {
   "cell_type": "markdown",
   "metadata": {},
   "source": [
    "Evaluation"
   ]
  },
  {
   "cell_type": "code",
   "execution_count": 31,
   "metadata": {
    "collapsed": true
   },
   "outputs": [],
   "source": [
    "correct_prediction = tf.equal(tf.argmax(logits, 1), tf.argmax(one_hot_y, 1))\n",
    "accuracy_operation = tf.reduce_mean(tf.cast(correct_prediction, tf.float32))\n",
    "saver = tf.train.Saver()\n",
    "\n",
    "def evaluate(X_data, y_data):\n",
    "    num_examples = len(X_data)\n",
    "    total_accuracy = 0\n",
    "    total_loss = 0\n",
    "    sess = tf.get_default_session()\n",
    "    for offset in range(0, num_examples, BATCH_SIZE):\n",
    "        batch_x, batch_y = X_data[offset:offset+BATCH_SIZE], y_data[offset:offset+BATCH_SIZE]\n",
    "        accuracy = sess.run(accuracy_operation, feed_dict={x: batch_x, y: batch_y, keep_prob: 1.0})\n",
    "        loss = sess.run(loss_operation, feed_dict={x: batch_x, y: batch_y, keep_prob: 1.0})\n",
    "        total_accuracy += (accuracy * len(batch_x))\n",
    "        total_loss += (loss * len(batch_x))\n",
    "\n",
    "    return total_accuracy / num_examples, total_loss / num_examples"
   ]
  },
  {
   "cell_type": "markdown",
   "metadata": {},
   "source": [
    "Training"
   ]
  },
  {
   "cell_type": "code",
   "execution_count": 32,
   "metadata": {
    "collapsed": true
   },
   "outputs": [],
   "source": [
    "from sklearn.utils import shuffle\n",
    "\n",
    "EPOCHS = 30\n",
    "BATCH_SIZE = 512\n",
    "dropout = 0.5"
   ]
  },
  {
   "cell_type": "code",
   "execution_count": 33,
   "metadata": {
    "scrolled": false
   },
   "outputs": [
    {
     "name": "stdout",
     "output_type": "stream",
     "text": [
      "Training...\n",
      "\n",
      "EPOCH 1 ...\n",
      "Train Accuracy = 0.436\n",
      "Validation Accuracy = 0.430\n",
      "Validation Loss = 1.60262563286\n",
      "\n",
      "EPOCH 2 ...\n",
      "Train Accuracy = 0.499\n",
      "Validation Accuracy = 0.486\n",
      "Validation Loss = 1.42819206518\n",
      "\n",
      "EPOCH 3 ...\n",
      "Train Accuracy = 0.566\n",
      "Validation Accuracy = 0.550\n",
      "Validation Loss = 1.25443380566\n",
      "\n",
      "EPOCH 4 ...\n",
      "Train Accuracy = 0.611\n",
      "Validation Accuracy = 0.580\n",
      "Validation Loss = 1.18290928701\n",
      "\n",
      "EPOCH 5 ...\n",
      "Train Accuracy = 0.633\n",
      "Validation Accuracy = 0.595\n",
      "Validation Loss = 1.14028651492\n",
      "\n",
      "EPOCH 6 ...\n",
      "Train Accuracy = 0.685\n",
      "Validation Accuracy = 0.632\n",
      "Validation Loss = 1.0460223285\n",
      "\n",
      "EPOCH 7 ...\n",
      "Train Accuracy = 0.692\n",
      "Validation Accuracy = 0.629\n",
      "Validation Loss = 1.04890724347\n",
      "\n",
      "EPOCH 8 ...\n",
      "Train Accuracy = 0.733\n",
      "Validation Accuracy = 0.659\n",
      "Validation Loss = 0.985899239731\n",
      "\n",
      "EPOCH 9 ...\n",
      "Train Accuracy = 0.743\n",
      "Validation Accuracy = 0.659\n",
      "Validation Loss = 0.996404726919\n",
      "\n",
      "EPOCH 10 ...\n",
      "Train Accuracy = 0.743\n",
      "Validation Accuracy = 0.650\n",
      "Validation Loss = 1.02511428235\n",
      "\n",
      "EPOCH 11 ...\n",
      "Train Accuracy = 0.772\n",
      "Validation Accuracy = 0.658\n",
      "Validation Loss = 1.01430994466\n",
      "\n",
      "EPOCH 12 ...\n",
      "Train Accuracy = 0.784\n",
      "Validation Accuracy = 0.659\n",
      "Validation Loss = 1.05368553238\n",
      "\n",
      "EPOCH 13 ...\n",
      "Train Accuracy = 0.814\n",
      "Validation Accuracy = 0.672\n",
      "Validation Loss = 0.99845931778\n",
      "\n",
      "EPOCH 14 ...\n",
      "Train Accuracy = 0.827\n",
      "Validation Accuracy = 0.679\n",
      "Validation Loss = 1.0111582847\n",
      "\n",
      "EPOCH 15 ...\n",
      "Train Accuracy = 0.832\n",
      "Validation Accuracy = 0.667\n",
      "Validation Loss = 1.03892527307\n",
      "\n",
      "EPOCH 16 ...\n",
      "Train Accuracy = 0.846\n",
      "Validation Accuracy = 0.675\n",
      "Validation Loss = 1.0747274217\n",
      "\n",
      "EPOCH 17 ...\n",
      "Train Accuracy = 0.855\n",
      "Validation Accuracy = 0.667\n",
      "Validation Loss = 1.10649967117\n",
      "\n",
      "EPOCH 18 ...\n",
      "Train Accuracy = 0.863\n",
      "Validation Accuracy = 0.663\n",
      "Validation Loss = 1.17912701689\n",
      "\n",
      "EPOCH 19 ...\n",
      "Train Accuracy = 0.879\n",
      "Validation Accuracy = 0.669\n",
      "Validation Loss = 1.19696676801\n",
      "\n",
      "EPOCH 20 ...\n",
      "Train Accuracy = 0.874\n",
      "Validation Accuracy = 0.655\n",
      "Validation Loss = 1.22926918691\n",
      "\n",
      "EPOCH 21 ...\n",
      "Train Accuracy = 0.880\n",
      "Validation Accuracy = 0.661\n",
      "Validation Loss = 1.30939877879\n",
      "\n",
      "EPOCH 22 ...\n",
      "Train Accuracy = 0.895\n",
      "Validation Accuracy = 0.659\n",
      "Validation Loss = 1.36403536065\n",
      "\n",
      "EPOCH 23 ...\n",
      "Train Accuracy = 0.905\n",
      "Validation Accuracy = 0.664\n",
      "Validation Loss = 1.37384432195\n",
      "\n",
      "EPOCH 24 ...\n",
      "Train Accuracy = 0.893\n",
      "Validation Accuracy = 0.653\n",
      "Validation Loss = 1.4629136624\n",
      "\n",
      "EPOCH 25 ...\n",
      "Train Accuracy = 0.890\n",
      "Validation Accuracy = 0.646\n",
      "Validation Loss = 1.57080944449\n",
      "\n",
      "EPOCH 26 ...\n",
      "Train Accuracy = 0.921\n",
      "Validation Accuracy = 0.659\n",
      "Validation Loss = 1.53355196743\n",
      "\n",
      "EPOCH 27 ...\n",
      "Train Accuracy = 0.886\n",
      "Validation Accuracy = 0.642\n",
      "Validation Loss = 1.67314595973\n",
      "\n",
      "EPOCH 28 ...\n",
      "Train Accuracy = 0.912\n",
      "Validation Accuracy = 0.656\n",
      "Validation Loss = 1.67746090533\n",
      "\n",
      "EPOCH 29 ...\n",
      "Train Accuracy = 0.929\n",
      "Validation Accuracy = 0.652\n",
      "Validation Loss = 1.73907777367\n",
      "\n",
      "EPOCH 30 ...\n",
      "Train Accuracy = 0.949\n",
      "Validation Accuracy = 0.656\n",
      "Validation Loss = 1.70659711119\n",
      "\n",
      "Model saved\n",
      "CPU times: user 8min 12s, sys: 2min 41s, total: 10min 53s\n",
      "Wall time: 12min 39s\n"
     ]
    },
    {
     "data": {
      "image/png": "[encoded data removed]",
      "text/plain": [
       "<matplotlib.figure.Figure at 0x7f629e6af908>"
      ]
     },
     "metadata": {},
     "output_type": "display_data"
    },
    {
     "data": {
      "image/png": "[encoded data removed]",
      "text/plain": [
       "<matplotlib.figure.Figure at 0x7f629e6af978>"
      ]
     },
     "metadata": {},
     "output_type": "display_data"
    }
   ],
   "source": [
    "%%time\n",
    "\n",
    "\n",
    "\n",
    "with tf.Session() as sess:\n",
    "    sess.run(tf.global_variables_initializer())\n",
    "    num_examples = len(X_train_prepared)\n",
    "    \n",
    "    train_losses = []\n",
    "    validation_losses = []\n",
    "    \n",
    "    train_accs = []\n",
    "    validation_accs = []\n",
    "    \n",
    "    print(\"Training...\")\n",
    "    print()\n",
    "    for i in range(EPOCHS):\n",
    "        # Shuffle normal images.\n",
    "        X_train_shuffled, y_train_shuffled = shuffle(X_train_prepared, y_train)\n",
    "        \n",
    "        # Shuffle augmentated images.\n",
    "        for k in range(AUGMENTATION_RUNS):\n",
    "            X_train_augmented_shuffled = np.zeros(X_train_augmented_prepared.shape)\n",
    "            y_train_augmented_shuffled = np.zeros((AUGMENTATION_RUNS,) + y_train.shape)\n",
    "            X_train_augmented_shuffled[k], y_train_augmented_shuffled[k] = shuffle(X_train_augmented_prepared[k], y_train)\n",
    "\n",
    "        # Do Batch runs.\n",
    "        for offset in range(0, num_examples, BATCH_SIZE):\n",
    "            end = offset + BATCH_SIZE\n",
    "            batch_x, batch_y = X_train_shuffled[offset:end], y_train_shuffled[offset:end]\n",
    "            \n",
    "            # do a normal run.\n",
    "            sess.run(training_operation, feed_dict={x: batch_x, y: batch_y, keep_prob: dropout})\n",
    "            \n",
    "            # do runs with augmentated images.\n",
    "            for augmentation_run in range(AUGMENTATION_RUNS):\n",
    "                augmented_batch_x, augmented_batch_y = X_train_augmented_shuffled[augmentation_run][offset:end], y_train_augmented_shuffled[augmentation_run][offset:end]\n",
    "                sess.run(training_operation, feed_dict={x: augmented_batch_x, y: augmented_batch_y, keep_prob: dropout})\n",
    "       \n",
    "        # Calculate and print losses and accuracies.\n",
    "        train_accuracy, train_loss = evaluate(X_train_prepared, y_train)\n",
    "        validation_accuracy, validation_loss = evaluate(X_valid_prepared, y_valid)\n",
    "        \n",
    "        train_losses.append(train_loss)\n",
    "        validation_losses.append(validation_loss)\n",
    "        \n",
    "        train_accs.append(train_accuracy)\n",
    "        validation_accs.append(validation_accuracy)\n",
    "        print(\"EPOCH {} ...\".format(i+1))\n",
    "        print(\"Train Accuracy = {0:.3f}\".format(train_accuracy))\n",
    "        print(\"Validation Accuracy = {0:.3f}\".format(validation_accuracy))\n",
    "        print(\"Validation Loss = \" + str(validation_loss))\n",
    "        print()\n",
    "        \n",
    "    saver.save(sess, './lenet')\n",
    "    print(\"Model saved\")\n",
    "    \n",
    "    pd.DataFrame({\"Trainloss\": train_losses, \"Validationloss\": validation_losses}).plot()\n",
    "    pd.DataFrame({\"Trainacc\": train_accs, \"Validationacc\": validation_accs}).plot()"
   ]
  },
  {
   "cell_type": "markdown",
   "metadata": {},
   "source": [
    "Final test"
   ]
  },
  {
   "cell_type": "code",
   "execution_count": 34,
   "metadata": {},
   "outputs": [
    {
     "name": "stdout",
     "output_type": "stream",
     "text": [
      "Test Accuracy = 0.661\n"
     ]
    }
   ],
   "source": [
    "with tf.Session() as sess:\n",
    "    saver.restore(sess, tf.train.latest_checkpoint('.'))\n",
    "\n",
    "    test_accuracy, test_loss = evaluate(X_test_prepared, y_test)\n",
    "    print(\"Test Accuracy = {:.3f}\".format(test_accuracy))"
   ]
  },
  {
   "cell_type": "markdown",
   "metadata": {},
   "source": [
    "### Missclassified Images"
   ]
  },
  {
   "cell_type": "code",
   "execution_count": 35,
   "metadata": {
    "collapsed": true
   },
   "outputs": [],
   "source": [
    "with tf.Session() as sess:\n",
    "    saver.restore(sess, tf.train.latest_checkpoint('.'))\n",
    "    \n",
    "    prediction = tf.argmax(logits,1)\n",
    "    pred = sess.run(prediction, feed_dict = {x: X_test_prepared,  keep_prob: 1.0})\n",
    " "
   ]
  },
  {
   "cell_type": "code",
   "execution_count": 36,
   "metadata": {
    "collapsed": true
   },
   "outputs": [],
   "source": [
    "from sklearn.metrics import confusion_matrix\n",
    "\n",
    "def plot_nth_most_confused(n, true_values, predicted_values):\n",
    "    conf = confusion_matrix(true_values, predicted_values)\n",
    "    np.fill_diagonal(conf, 0)\n",
    "\n",
    "    flat = conf.flatten()\n",
    "    flat.sort()\n",
    "\n",
    "    real, pred = np.where(conf == flat[-n])\n",
    "    real_class = np.where(y_test == real)[0][0]\n",
    "    pred_class = np.where(y_test == pred)[0][0]\n",
    "\n",
    "    plt.subplot(1, 2, 1)\n",
    "    plt.imshow((X_test[real_class]))\n",
    "    plt.subplot(1, 2, 2)\n",
    "    plt.imshow((X_test[pred_class]))\n",
    "\n",
    "\n"
   ]
  },
  {
   "cell_type": "markdown",
   "metadata": {},
   "source": [
    "This are examples for the most confused classes from most confusions to less confusions. The signs are very similiar indeed. "
   ]
  },
  {
   "cell_type": "code",
   "execution_count": 37,
   "metadata": {},
   "outputs": [
    {
     "data": {
      "image/png": "[encoded data removed]",
      "text/plain": [
       "<matplotlib.figure.Figure at 0x7f61904ba198>"
      ]
     },
     "metadata": {},
     "output_type": "display_data"
    }
   ],
   "source": [
    "plot_nth_most_confused(1, y_test, pred)"
   ]
  },
  {
   "cell_type": "code",
   "execution_count": 38,
   "metadata": {},
   "outputs": [
    {
     "data": {
      "image/png": "[encoded data removed]",
      "text/plain": [
       "<matplotlib.figure.Figure at 0x7f619051e278>"
      ]
     },
     "metadata": {},
     "output_type": "display_data"
    }
   ],
   "source": [
    "plot_nth_most_confused(2, y_test, pred)"
   ]
  },
  {
   "cell_type": "code",
   "execution_count": 39,
   "metadata": {},
   "outputs": [
    {
     "data": {
      "image/png": "[encoded data removed]",
      "text/plain": [
       "<matplotlib.figure.Figure at 0x7f619051ec50>"
      ]
     },
     "metadata": {},
     "output_type": "display_data"
    }
   ],
   "source": [
    "plot_nth_most_confused(3, y_test, pred)"
   ]
  },
  {
   "cell_type": "code",
   "execution_count": 40,
   "metadata": {},
   "outputs": [
    {
     "data": {
      "image/png": "[encoded data removed]",
      "text/plain": [
       "<matplotlib.figure.Figure at 0x7f61903bfba8>"
      ]
     },
     "metadata": {},
     "output_type": "display_data"
    }
   ],
   "source": [
    "plot_nth_most_confused(4, y_test, pred)"
   ]
  },
  {
   "cell_type": "code",
   "execution_count": null,
   "metadata": {
    "collapsed": true
   },
   "outputs": [],
   "source": []
  }
 ],
 "metadata": {
  "anaconda-cloud": {},
  "kernelspec": {
   "display_name": "Python 3",
   "language": "python",
   "name": "python3"
  },
  "language_info": {
   "codemirror_mode": {
    "name": "ipython",
    "version": 3
   },
   "file_extension": ".py",
   "mimetype": "text/x-python",
   "name": "python",
   "nbconvert_exporter": "python",
   "pygments_lexer": "ipython3",
   "version": "3.5.2"
  },
  "widgets": {
   "state": {},
   "version": "1.1.2"
  }
 },
 "nbformat": 4,
 "nbformat_minor": 1
}
